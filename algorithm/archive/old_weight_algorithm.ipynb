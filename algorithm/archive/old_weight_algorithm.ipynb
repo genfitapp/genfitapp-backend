{
 "cells": [
  {
   "cell_type": "code",
   "execution_count": null,
   "metadata": {},
   "outputs": [],
   "source": [
    "# def old_weight_algorithm(exercise_records, phase):\n",
    "#     \"\"\"\n",
    "#     Suggests weight and reps using a simplified progression model.\n",
    "\n",
    "#     Parameters:\n",
    "#     - exercise_records (list): User's past records for this exercise.\n",
    "#     - phase (str): Current training phase (Strength, Hypertrophy, Endurance).\n",
    "\n",
    "#     Returns:\n",
    "#     - tuple: Suggested weight and reps for the next workout.\n",
    "#     \"\"\"\n",
    "\n",
    "#     # Define rep ranges and progression rules per phase\n",
    "#     phase_settings = {\n",
    "#         \"Hypertrophy\": {\"target_reps\": (9, 12), \"increment\": 10},\n",
    "#         \"Strength\": {\"target_reps\": (5, 8), \"increment\": 10},\n",
    "#         \"Endurance\": {\"target_reps\": (13, 16), \"increment\": 10}\n",
    "#     }\n",
    "\n",
    "#     settings = phase_settings[phase]\n",
    "#     target_reps = settings[\"target_reps\"]\n",
    "#     increment = settings[\"increment\"]\n",
    "\n",
    "#     #CHECK IF RECORDS FOR THE PHASE EXIST, OTHERWISE, LET'S CALL A FUNCTION TO CALCULATE WEIGHT WITH RESPECT TO TARGET LOWER BOUND AND A SAMPLE FROM OTHER PHASE\n",
    "\n",
    "#     #IF PHASE EXISTS\n",
    "\n",
    "#     # Get the most recent record\n",
    "#     last_record = exercise_records[-1]\n",
    "#     last_weight = last_record[\"weight\"][-1]\n",
    "#     last_reps_list = last_record[\"reps\"]\n",
    "\n",
    "#     # Check if all sets met or exceeded the target reps\n",
    "#     if all(rep >= target_reps[1] for rep in last_reps_list):\n",
    "#         # 1️⃣ Exceeded Upper Limit in All Sets → Increase Weight\n",
    "#         new_weight = last_weight + increment\n",
    "#         suggested_reps = target_reps[0]\n",
    "#         return new_weight, suggested_reps\n",
    "\n",
    "#     elif all(rep >= target_reps[0] for rep in last_reps_list):\n",
    "#         # 2️⃣ Within Target Range for All Sets → Increase Reps\n",
    "#         max_reps_done = max(last_reps_list)\n",
    "#         if max_reps_done < target_reps[1]:\n",
    "#             suggested_reps = max_reps_done + 1\n",
    "#             return last_weight, suggested_reps\n",
    "#         else:\n",
    "#             return last_weight, target_reps[1]  # Maintain if at upper limit\n",
    "\n",
    "#     else:\n",
    "#         # 3️⃣ Incomplete Sets (Struggled) → Retry Same Weight and Reps\n",
    "#         return last_weight, target_reps[0]  # Retry the target reps\n"
   ]
  }
 ],
 "metadata": {
  "kernelspec": {
   "display_name": "Python 3",
   "language": "python",
   "name": "python3"
  },
  "language_info": {
   "name": "python",
   "version": "3.7.9"
  }
 },
 "nbformat": 4,
 "nbformat_minor": 2
}
