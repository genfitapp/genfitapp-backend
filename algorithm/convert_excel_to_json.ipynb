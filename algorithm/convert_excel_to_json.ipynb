{
 "cells": [
  {
   "cell_type": "code",
   "execution_count": 1,
   "metadata": {},
   "outputs": [
    {
     "name": "stdout",
     "output_type": "stream",
     "text": [
      "🔄 Replacing 'None' in column: Main muscle(s)\n",
      "🔄 Replacing 'None' in column: Secondary muscles\n",
      "🔄 Replacing 'None' in column: Level\n",
      "🔄 Replacing 'None' in column: Equipment\n",
      "🔄 Replacing 'None' in column: Prerequesite Exercise\n",
      "🔄 Replacing 'None' in column: Variations\n",
      "🔄 Replacing 'None' in column: Regression\n",
      "🔄 Replacing 'None' in column: Progression\n",
      "🔄 Replacing 'None' in column: Exercise Purpose\n",
      "🔄 Replacing 'None' in column: Force type (Push, Pull, Rotation, Isomatric)\n",
      "🔄 Replacing 'None' in column: Movement Pattern (Squat, Hinge, Lunge, Push, Pull, Carry, Twist)\n",
      "🔄 Replacing 'None' in column: Pain Exclusions\n"
     ]
    }
   ],
   "source": [
    "import pandas as pd\n",
    "import numpy as np\n",
    "\n",
    "# Load the Excel file\n",
    "file_path = 'Exercises Data 7.0 with Descriptions.xlsx'\n",
    "sheet_name = 'Sheet1'\n",
    "\n",
    "df = pd.read_excel(file_path, sheet_name=sheet_name)\n",
    "\n",
    "# List of columns to clean (The others are fine)\n",
    "columns_to_parse = [\n",
    "    'Main muscle(s)', 'Secondary muscles', 'Level', 'Equipment',\n",
    "    'Prerequesite Exercise', 'Variations', 'Regression', 'Progression',\n",
    "    'Exercise Purpose', 'Force type (Push, Pull, Rotation, Isomatric)',\n",
    "    'Movement Pattern (Squat, Hinge, Lunge, Push, Pull, Carry, Twist)', 'Pain Exclusions'\n",
    "]\n",
    "\n",
    "# Replace \"None\" strings with NaN\n",
    "for col in columns_to_parse:\n",
    "    if col in df.columns:\n",
    "        print(f\"🔄 Replacing 'None' in column: {col}\")\n",
    "        df[col] = df[col].replace('None', np.nan).replace('none', np.nan)\n"
   ]
  },
  {
   "cell_type": "code",
   "execution_count": 2,
   "metadata": {},
   "outputs": [],
   "source": [
    "import ast\n",
    "\n",
    "def parse_column(cell):\n",
    "    \"\"\"\n",
    "    Safely parse a cell into a Python list.\n",
    "    Handles NaN, float, and string representations of lists.\n",
    "    \"\"\"\n",
    "    if pd.isna(cell) or isinstance(cell, float):  # Handle NaN or float values\n",
    "        return []\n",
    "    if isinstance(cell, str):\n",
    "        try:\n",
    "            # Attempt to evaluate the string into a Python object (list, dict, etc.)\n",
    "            return ast.literal_eval(cell)\n",
    "        except (ValueError, SyntaxError):\n",
    "            # If parsing fails, return as a single-item list with the string\n",
    "            return [cell.strip()]\n",
    "    if isinstance(cell, list):\n",
    "        return cell  # Already a list\n",
    "    return []\n",
    "\n"
   ]
  },
  {
   "cell_type": "code",
   "execution_count": 3,
   "metadata": {},
   "outputs": [
    {
     "name": "stdout",
     "output_type": "stream",
     "text": [
      "🔄 Parsing column: Main muscle(s)\n",
      "🔄 Parsing column: Secondary muscles\n",
      "🔄 Parsing column: Level\n",
      "🔄 Parsing column: Equipment\n",
      "🔄 Parsing column: Prerequesite Exercise\n",
      "🔄 Parsing column: Variations\n",
      "🔄 Parsing column: Regression\n",
      "🔄 Parsing column: Progression\n",
      "🔄 Parsing column: Exercise Purpose\n",
      "🔄 Parsing column: Force type (Push, Pull, Rotation, Isomatric)\n",
      "🔄 Parsing column: Movement Pattern (Squat, Hinge, Lunge, Push, Pull, Carry, Twist)\n",
      "🔄 Parsing column: Pain Exclusions\n"
     ]
    }
   ],
   "source": [
    "# List of columns to parse\n",
    "columns_to_parse = [\n",
    "    'Main muscle(s)', 'Secondary muscles', 'Level', 'Equipment',\n",
    "    'Prerequesite Exercise', 'Variations', 'Regression', 'Progression',\n",
    "    'Exercise Purpose', 'Force type (Push, Pull, Rotation, Isomatric)',\n",
    "    'Movement Pattern (Squat, Hinge, Lunge, Push, Pull, Carry, Twist)', 'Pain Exclusions'\n",
    "]\n",
    "\n",
    "# Apply the parsing function\n",
    "for col in columns_to_parse:\n",
    "    if col in df.columns:\n",
    "        print(f\"🔄 Parsing column: {col}\")\n",
    "        df[col] = df[col].apply(parse_column)\n"
   ]
  },
  {
   "cell_type": "code",
   "execution_count": 4,
   "metadata": {},
   "outputs": [
    {
     "name": "stdout",
     "output_type": "stream",
     "text": [
      "🔍 Verifying Parsed Column Types:\n",
      "Main muscle(s): [<class 'list'>]\n",
      "Secondary muscles: [<class 'list'>]\n",
      "Level: [<class 'list'>]\n",
      "Equipment: [<class 'list'>]\n",
      "Prerequesite Exercise: [<class 'list'>]\n",
      "Variations: [<class 'list'>]\n",
      "Regression: [<class 'list'>]\n",
      "Progression: [<class 'list'>]\n",
      "Exercise Purpose: [<class 'list'>]\n",
      "Force type (Push, Pull, Rotation, Isomatric): [<class 'list'>]\n",
      "Movement Pattern (Squat, Hinge, Lunge, Push, Pull, Carry, Twist): [<class 'list'>]\n",
      "Pain Exclusions: [<class 'list'>]\n"
     ]
    }
   ],
   "source": [
    "print(\"🔍 Verifying Parsed Column Types:\")\n",
    "for col in columns_to_parse:\n",
    "    if col in df.columns:\n",
    "        print(f\"{col}: {df[col].apply(type).unique()}\")\n"
   ]
  },
  {
   "cell_type": "code",
   "execution_count": 5,
   "metadata": {},
   "outputs": [],
   "source": [
    "def save_dataset_to_json(df, file_path='dataset.json'):\n",
    "    \"\"\"\n",
    "    Save a DataFrame to a JSON file, preserving complex data structures.\n",
    "    \"\"\"\n",
    "    df.to_json(file_path, orient='records', indent=2)\n",
    "    print(f\"✅ Dataset saved to {file_path}\")\n"
   ]
  },
  {
   "cell_type": "code",
   "execution_count": 6,
   "metadata": {},
   "outputs": [
    {
     "name": "stdout",
     "output_type": "stream",
     "text": [
      "✅ Dataset saved to dataset_7.json\n"
     ]
    }
   ],
   "source": [
    "save_dataset_to_json(df, 'dataset_7.json')\n"
   ]
  },
  {
   "cell_type": "code",
   "execution_count": 7,
   "metadata": {},
   "outputs": [
    {
     "name": "stdout",
     "output_type": "stream",
     "text": [
      "✅ Dataset loaded from dataset_7.json\n",
      "              push up       Animation name Main muscle(s)  \\\n",
      "0        Wall push up                 None        [Chest]   \n",
      "1    Kneeling push up                 None        [Chest]   \n",
      "2             Push up       Normal Push-up        [Chest]   \n",
      "3  Close grip push up              Body-Up        [Chest]   \n",
      "4   Loop band push up  Band Push-up_female        [Chest]   \n",
      "\n",
      "      Secondary muscles Movement      Type Lower bound (lbs/resistance/time)  \\\n",
      "0  [Shoulders, triceps]     Push  Compound                                 0   \n",
      "1  [Shoulders, triceps]     Push  Compound                                 0   \n",
      "2  [Shoulders, triceps]     Push  Compound                                 0   \n",
      "3  [Shoulders, triceps]     Push  Compound                                 0   \n",
      "4  [Shoulders, triceps]     Push  Compound                             Light   \n",
      "\n",
      "       Level  Difficulty        Equipment  ...          Progression  \\\n",
      "0        [1]           1         [[None]]  ...   [kneeling push up]   \n",
      "1     [1, 2]           1         [[None]]  ...            [push up]   \n",
      "2  [2, 3, 4]           2         [[None]]  ...  [loop band push up]   \n",
      "3  [2, 3, 4]           2         [[None]]  ...  [loop band push up]   \n",
      "4  [2, 3, 4]           2  [[1 Loop band]]  ...                   []   \n",
      "\n",
      "  Loading type (Asymmetrical / Symmetrical) Risk level Exercise Purpose  \\\n",
      "0                                         0          0     [H, STR, ME]   \n",
      "1                                         0          0     [H, STR, ME]   \n",
      "2                                         0          1     [H, STR, ME]   \n",
      "3                                         0          0     [H, STR, ME]   \n",
      "4                                         0          1     [H, STR, ME]   \n",
      "\n",
      "   Force type (Push, Pull, Rotation, Isomatric)  \\\n",
      "0                                        [push]   \n",
      "1                                        [push]   \n",
      "2                                        [push]   \n",
      "3                                        [push]   \n",
      "4                                        [push]   \n",
      "\n",
      "   Movement Pattern (Squat, Hinge, Lunge, Push, Pull, Carry, Twist)  \\\n",
      "0                                             [push]                  \n",
      "1                                             [push]                  \n",
      "2                                             [push]                  \n",
      "3                                             [push]                  \n",
      "4                                             [push]                  \n",
      "\n",
      "  Equipment Type (Gym:0, Body:1, Band:2)    Pain Exclusions  \\\n",
      "0                                      1  [Shoulder, Elbow]   \n",
      "1                                      1  [Shoulder, Elbow]   \n",
      "2                                      1  [Shoulder, Elbow]   \n",
      "3                                      1  [Shoulder, Elbow]   \n",
      "4                                      1  [Shoulder, Elbow]   \n",
      "\n",
      "                                Exercise Description  \\\n",
      "0  1. Stand facing a wall at arm’s length, feet h...   \n",
      "1  1. Start on all fours with your hands flat on ...   \n",
      "2  \\t1. Start in a high plank position with your ...   \n",
      "3  1. Start in a high plank position with your ha...   \n",
      "4  1. Place a loop resistance band around your up...   \n",
      "\n",
      "                                        Audio Script  \n",
      "0  Face the wall and place your hands at shoulder...  \n",
      "1  Start on all fours with your hands a little wi...  \n",
      "2  Start in a high plank with your hands a little...  \n",
      "3  Start in a high plank with your hands under yo...  \n",
      "4  Place a loop band across your upper back and p...  \n",
      "\n",
      "[5 rows x 23 columns]\n"
     ]
    }
   ],
   "source": [
    "def load_dataset_from_json(file_path='dataset_7.json'):\n",
    "    \"\"\"\n",
    "    Load a DataFrame from a JSON file, preserving complex data structures.\n",
    "    \"\"\"\n",
    "    df = pd.read_json(file_path)\n",
    "    print(f\"✅ Dataset loaded from {file_path}\")\n",
    "    return df\n",
    "\n",
    "# Reload and inspect the dataset\n",
    "df_loaded = load_dataset_from_json('dataset_7.json')\n",
    "print(df_loaded.head())\n"
   ]
  },
  {
   "cell_type": "code",
   "execution_count": 8,
   "metadata": {},
   "outputs": [
    {
     "name": "stdout",
     "output_type": "stream",
     "text": [
      "🔍 Verifying Parsed Column Types:\n",
      "Main muscle(s): [<class 'list'>]\n",
      "Secondary muscles: [<class 'list'>]\n",
      "Level: [<class 'list'>]\n",
      "Equipment: [<class 'list'>]\n",
      "Prerequesite Exercise: [<class 'list'>]\n",
      "Variations: [<class 'list'>]\n",
      "Regression: [<class 'list'>]\n",
      "Progression: [<class 'list'>]\n",
      "Exercise Purpose: [<class 'list'>]\n",
      "Force type (Push, Pull, Rotation, Isomatric): [<class 'list'>]\n",
      "Movement Pattern (Squat, Hinge, Lunge, Push, Pull, Carry, Twist): [<class 'list'>]\n",
      "Pain Exclusions: [<class 'list'>]\n"
     ]
    }
   ],
   "source": [
    "print(\"🔍 Verifying Parsed Column Types:\")\n",
    "for col in columns_to_parse:\n",
    "    if col in df_loaded.columns:\n",
    "        print(f\"{col}: {df_loaded[col].apply(type).unique()}\")"
   ]
  }
 ],
 "metadata": {
  "kernelspec": {
   "display_name": "Python 3",
   "language": "python",
   "name": "python3"
  },
  "language_info": {
   "codemirror_mode": {
    "name": "ipython",
    "version": 3
   },
   "file_extension": ".py",
   "mimetype": "text/x-python",
   "name": "python",
   "nbconvert_exporter": "python",
   "pygments_lexer": "ipython3",
   "version": "3.7.9"
  }
 },
 "nbformat": 4,
 "nbformat_minor": 2
}
